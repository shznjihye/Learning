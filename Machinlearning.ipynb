{
  "nbformat": 4,
  "nbformat_minor": 0,
  "metadata": {
    "colab": {
      "name": "Machinlearning",
      "provenance": [],
      "collapsed_sections": [],
      "authorship_tag": "ABX9TyOi6FJjge6mlbplVoWC+JrL",
      "include_colab_link": true
    },
    "kernelspec": {
      "name": "python3",
      "display_name": "Python 3"
    }
  },
  "cells": [
    {
      "cell_type": "markdown",
      "metadata": {
        "id": "view-in-github",
        "colab_type": "text"
      },
      "source": [
        "<a href=\"https://colab.research.google.com/github/shznjihye/Learning/blob/main/Machinlearning.ipynb\" target=\"_parent\"><img src=\"https://colab.research.google.com/assets/colab-badge.svg\" alt=\"Open In Colab\"/></a>"
      ]
    },
    {
      "cell_type": "code",
      "metadata": {
        "colab": {
          "base_uri": "https://localhost:8080/",
          "height": 35
        },
        "id": "Tx5t0jfAbLFh",
        "outputId": "e2838501-110a-498b-a780-fbe832c70209"
      },
      "source": [
        "import tensorflow as tf\r\n",
        "tf.__version__\r\n"
      ],
      "execution_count": null,
      "outputs": [
        {
          "output_type": "execute_result",
          "data": {
            "application/vnd.google.colaboratory.intrinsic+json": {
              "type": "string"
            },
            "text/plain": [
              "'2.4.1'"
            ]
          },
          "metadata": {
            "tags": []
          },
          "execution_count": 1
        }
      ]
    },
    {
      "cell_type": "code",
      "metadata": {
        "colab": {
          "base_uri": "https://localhost:8080/"
        },
        "id": "0esqhVjQb-YC",
        "outputId": "87ddd7f7-bd97-4a4e-e37f-361dfdb1e2a3"
      },
      "source": [
        "# Info 로그를 필터링하려면 1, Warning 로그는 2, Error 로그는 3\r\n",
        "import os\r\n",
        "os.environ['TF_CPP_MIN_LOG_LEVEL'] = '2'\r\n",
        " \r\n",
        "import tensorflow as tf\r\n",
        " \r\n",
        "# 앞쪽 레이어의 노드 빌드하기\r\n",
        "node1 = tf.constant(3.0, tf.float32)\r\n",
        "node2 = tf.constant(4.0, tf.float32)\r\n",
        "\r\n",
        " \r\n",
        "# 뒷쪽 레이어의 노드(즉 node3)를 함수로 정의하기\r\n",
        "@tf.function\r\n",
        "def forward() :\r\n",
        "    return node1 + node2\r\n",
        " \r\n",
        "# 그래프를 실행시키고 output을 확인해보기\r\n",
        "out_a = forward()\r\n",
        "print(out_a)\r\n"
      ],
      "execution_count": null,
      "outputs": [
        {
          "output_type": "stream",
          "text": [
            "tf.Tensor(7.0, shape=(), dtype=float32)\n"
          ],
          "name": "stdout"
        }
      ]
    }
  ]
}