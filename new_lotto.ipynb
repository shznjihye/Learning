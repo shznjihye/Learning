{
  "nbformat": 4,
  "nbformat_minor": 0,
  "metadata": {
    "colab": {
      "name": "new_lotto.ipynb",
      "provenance": [],
      "authorship_tag": "ABX9TyP7YIlhJoKqYLmn0YUlwZzU",
      "include_colab_link": true
    },
    "kernelspec": {
      "name": "python3",
      "display_name": "Python 3"
    },
    "language_info": {
      "name": "python"
    }
  },
  "cells": [
    {
      "cell_type": "markdown",
      "metadata": {
        "id": "view-in-github",
        "colab_type": "text"
      },
      "source": [
        "<a href=\"https://colab.research.google.com/github/shznjihye/Learning/blob/main/new_lotto.ipynb\" target=\"_parent\"><img src=\"https://colab.research.google.com/assets/colab-badge.svg\" alt=\"Open In Colab\"/></a>"
      ]
    },
    {
      "cell_type": "code",
      "metadata": {
        "id": "VARF2SrYwWGY"
      },
      "source": [
        "import pandas as pd"
      ],
      "execution_count": 1,
      "outputs": []
    },
    {
      "cell_type": "code",
      "metadata": {
        "id": "wpGcJjXf6KSg"
      },
      "source": [
        "import matplotlib.pyplot as plt\n",
        "import matplotlib.font_manager as fm"
      ],
      "execution_count": 2,
      "outputs": []
    },
    {
      "cell_type": "code",
      "metadata": {
        "colab": {
          "base_uri": "https://localhost:8080/",
          "height": 204
        },
        "id": "2W_kZ1Sp8COi",
        "outputId": "5b039446-4801-4ad6-af8b-699d53f86230"
      },
      "source": [
        "df = pd.read_csv('/content/excel11.csv', low_memory = False)\n",
        "df.head()\n",
        "\n",
        "# low_memory = True는 모든 데이터타입을 일일히 확인 / False는 하나로 통합"
      ],
      "execution_count": 3,
      "outputs": [
        {
          "output_type": "execute_result",
          "data": {
            "text/html": [
              "<div>\n",
              "<style scoped>\n",
              "    .dataframe tbody tr th:only-of-type {\n",
              "        vertical-align: middle;\n",
              "    }\n",
              "\n",
              "    .dataframe tbody tr th {\n",
              "        vertical-align: top;\n",
              "    }\n",
              "\n",
              "    .dataframe thead th {\n",
              "        text-align: right;\n",
              "    }\n",
              "</style>\n",
              "<table border=\"1\" class=\"dataframe\">\n",
              "  <thead>\n",
              "    <tr style=\"text-align: right;\">\n",
              "      <th></th>\n",
              "      <th>num</th>\n",
              "      <th>A</th>\n",
              "      <th>B</th>\n",
              "      <th>C</th>\n",
              "      <th>D</th>\n",
              "      <th>E</th>\n",
              "      <th>F</th>\n",
              "      <th>bonus</th>\n",
              "    </tr>\n",
              "  </thead>\n",
              "  <tbody>\n",
              "    <tr>\n",
              "      <th>0</th>\n",
              "      <td>1</td>\n",
              "      <td>10</td>\n",
              "      <td>23</td>\n",
              "      <td>29</td>\n",
              "      <td>33</td>\n",
              "      <td>37</td>\n",
              "      <td>40</td>\n",
              "      <td>16</td>\n",
              "    </tr>\n",
              "    <tr>\n",
              "      <th>1</th>\n",
              "      <td>2</td>\n",
              "      <td>9</td>\n",
              "      <td>13</td>\n",
              "      <td>21</td>\n",
              "      <td>25</td>\n",
              "      <td>32</td>\n",
              "      <td>42</td>\n",
              "      <td>2</td>\n",
              "    </tr>\n",
              "    <tr>\n",
              "      <th>2</th>\n",
              "      <td>3</td>\n",
              "      <td>11</td>\n",
              "      <td>16</td>\n",
              "      <td>19</td>\n",
              "      <td>21</td>\n",
              "      <td>27</td>\n",
              "      <td>31</td>\n",
              "      <td>30</td>\n",
              "    </tr>\n",
              "    <tr>\n",
              "      <th>3</th>\n",
              "      <td>4</td>\n",
              "      <td>14</td>\n",
              "      <td>27</td>\n",
              "      <td>30</td>\n",
              "      <td>31</td>\n",
              "      <td>40</td>\n",
              "      <td>42</td>\n",
              "      <td>2</td>\n",
              "    </tr>\n",
              "    <tr>\n",
              "      <th>4</th>\n",
              "      <td>5</td>\n",
              "      <td>16</td>\n",
              "      <td>24</td>\n",
              "      <td>29</td>\n",
              "      <td>40</td>\n",
              "      <td>41</td>\n",
              "      <td>42</td>\n",
              "      <td>3</td>\n",
              "    </tr>\n",
              "  </tbody>\n",
              "</table>\n",
              "</div>"
            ],
            "text/plain": [
              "   num   A   B   C   D   E   F  bonus\n",
              "0    1  10  23  29  33  37  40     16\n",
              "1    2   9  13  21  25  32  42      2\n",
              "2    3  11  16  19  21  27  31     30\n",
              "3    4  14  27  30  31  40  42      2\n",
              "4    5  16  24  29  40  41  42      3"
            ]
          },
          "metadata": {
            "tags": []
          },
          "execution_count": 3
        }
      ]
    },
    {
      "cell_type": "code",
      "metadata": {
        "colab": {
          "base_uri": "https://localhost:8080/"
        },
        "id": "MNFZfp7xbop7",
        "outputId": "0e1139bf-6d6e-42dd-dacd-244851b6a1a7"
      },
      "source": [
        "font_list = [font.name for font in fm.fontManager.ttflist]\n",
        "font_list"
      ],
      "execution_count": 4,
      "outputs": [
        {
          "output_type": "execute_result",
          "data": {
            "text/plain": [
              "['DejaVu Sans Mono',\n",
              " 'STIXNonUnicode',\n",
              " 'DejaVu Sans Mono',\n",
              " 'DejaVu Sans Display',\n",
              " 'STIXSizeTwoSym',\n",
              " 'DejaVu Serif',\n",
              " 'cmb10',\n",
              " 'STIXSizeTwoSym',\n",
              " 'cmex10',\n",
              " 'STIXGeneral',\n",
              " 'cmmi10',\n",
              " 'DejaVu Sans',\n",
              " 'DejaVu Serif',\n",
              " 'DejaVu Serif',\n",
              " 'DejaVu Serif',\n",
              " 'cmss10',\n",
              " 'STIXSizeThreeSym',\n",
              " 'STIXGeneral',\n",
              " 'STIXSizeFiveSym',\n",
              " 'cmtt10',\n",
              " 'DejaVu Serif Display',\n",
              " 'DejaVu Sans Mono',\n",
              " 'STIXSizeFourSym',\n",
              " 'DejaVu Sans Mono',\n",
              " 'STIXSizeOneSym',\n",
              " 'DejaVu Sans',\n",
              " 'STIXSizeFourSym',\n",
              " 'STIXSizeOneSym',\n",
              " 'STIXNonUnicode',\n",
              " 'STIXSizeThreeSym',\n",
              " 'STIXGeneral',\n",
              " 'DejaVu Sans',\n",
              " 'cmr10',\n",
              " 'STIXNonUnicode',\n",
              " 'STIXGeneral',\n",
              " 'cmsy10',\n",
              " 'STIXNonUnicode',\n",
              " 'DejaVu Sans',\n",
              " 'Liberation Sans',\n",
              " 'Liberation Sans',\n",
              " 'Liberation Sans',\n",
              " 'Liberation Serif',\n",
              " 'Liberation Mono',\n",
              " 'Liberation Serif',\n",
              " 'Liberation Serif',\n",
              " 'Liberation Sans Narrow',\n",
              " 'Liberation Sans',\n",
              " 'Liberation Mono',\n",
              " 'Liberation Sans Narrow',\n",
              " 'Liberation Mono',\n",
              " 'Humor Sans',\n",
              " 'Liberation Mono',\n",
              " 'Liberation Sans Narrow',\n",
              " 'Liberation Sans Narrow',\n",
              " 'Liberation Serif']"
            ]
          },
          "metadata": {
            "tags": []
          },
          "execution_count": 4
        }
      ]
    },
    {
      "cell_type": "code",
      "metadata": {
        "colab": {
          "base_uri": "https://localhost:8080/"
        },
        "id": "0Ja0MJLE-52i",
        "outputId": "0d15aff4-59d6-4c1e-9935-761b7ecc5e12"
      },
      "source": [
        "lotto = df['A'].values.tolist() + df['B'].values.tolist() + df['C'].dropna().values.tolist() + df['D'].dropna().values.tolist()+ df['E'].dropna().values.tolist() + df['F'].dropna().values.tolist()\n",
        "len(lotto)"
      ],
      "execution_count": 5,
      "outputs": [
        {
          "output_type": "execute_result",
          "data": {
            "text/plain": [
              "5748"
            ]
          },
          "metadata": {
            "tags": []
          },
          "execution_count": 5
        }
      ]
    },
    {
      "cell_type": "code",
      "metadata": {
        "id": "CXnStKWF_Vuc"
      },
      "source": [
        "import numpy as np"
      ],
      "execution_count": 6,
      "outputs": []
    },
    {
      "cell_type": "code",
      "metadata": {
        "id": "XSRnQT4N_yhc"
      },
      "source": [
        "lotto_s, s_number = np.unique(lotto, return_counts=True)"
      ],
      "execution_count": 7,
      "outputs": []
    },
    {
      "cell_type": "code",
      "metadata": {
        "colab": {
          "base_uri": "https://localhost:8080/"
        },
        "id": "OeQpj4ypCkmq",
        "outputId": "3d57e8e9-7d9d-4d97-a445-320a64acf6bc"
      },
      "source": [
        "lotto_s"
      ],
      "execution_count": 8,
      "outputs": [
        {
          "output_type": "execute_result",
          "data": {
            "text/plain": [
              "array([ 1,  2,  3,  4,  5,  6,  7,  8,  9, 10, 11, 12, 13, 14, 15, 16, 17,\n",
              "       18, 19, 20, 21, 22, 23, 24, 25, 26, 27, 28, 29, 30, 31, 32, 33, 34,\n",
              "       35, 36, 37, 38, 39, 40, 41, 42, 43, 44, 45])"
            ]
          },
          "metadata": {
            "tags": []
          },
          "execution_count": 8
        }
      ]
    },
    {
      "cell_type": "code",
      "metadata": {
        "colab": {
          "base_uri": "https://localhost:8080/"
        },
        "id": "F39Opf4OXzAi",
        "outputId": "9aa7b16b-0251-4ed7-f335-d8d3fc39b2ea"
      },
      "source": [
        "s_number"
      ],
      "execution_count": 9,
      "outputs": [
        {
          "output_type": "execute_result",
          "data": {
            "text/plain": [
              "array([133, 126, 128, 133, 128, 118, 126, 128, 101, 134, 129, 137, 135,\n",
              "       134, 130, 124, 137, 139, 131, 134, 127, 110, 114, 126, 123, 127,\n",
              "       141, 119, 115, 117, 129, 110, 134, 147, 119, 128, 131, 128, 137,\n",
              "       138, 118, 124, 141, 127, 133])"
            ]
          },
          "metadata": {
            "tags": []
          },
          "execution_count": 9
        }
      ]
    },
    {
      "cell_type": "code",
      "metadata": {
        "colab": {
          "base_uri": "https://localhost:8080/",
          "height": 351
        },
        "id": "cuPwkdnRZ7Yv",
        "outputId": "e6e81b0f-558d-4ca7-952c-ef23bb083758"
      },
      "source": [
        "plt.bar(lotto_s, s_number, width=0.7, color='blue', alpha=0.5)\n",
        "plt.title('Statistics by Number')\n",
        "plt.xlabel('<Number>', fontsize=11)\n",
        "plt.ylabel('<Count>', fontsize=11)\n",
        "plt.axis([0,46,100, 150])\n",
        "\n",
        "ax = plt.subplot()\n",
        "ax.set_xticks([1, 5, 10, 15, 20, 25, 30, 35, 40, 45])\n",
        "\n",
        "for i, v in enumerate(lotto_s):\n",
        "  plt.text(v, s_number[i], s_number[i], fontsize=9)\n",
        "\n",
        "plt.savefig('stats.png')"
      ],
      "execution_count": 10,
      "outputs": [
        {
          "output_type": "stream",
          "text": [
            "/usr/local/lib/python3.7/dist-packages/ipykernel_launcher.py:7: MatplotlibDeprecationWarning: Adding an axes using the same arguments as a previous axes currently reuses the earlier instance.  In a future version, a new instance will always be created and returned.  Meanwhile, this warning can be suppressed, and the future behavior ensured, by passing a unique label to each axes instance.\n",
            "  import sys\n"
          ],
          "name": "stderr"
        },
        {
          "output_type": "display_data",
          "data": {
            "image/png": "[encoded data removed]",
            "text/plain": [
              "<Figure size 432x288 with 1 Axes>"
            ]
          },
          "metadata": {
            "tags": [],
            "needs_background": "light"
          }
        }
      ]
    },
    {
      "cell_type": "code",
      "metadata": {
        "colab": {
          "base_uri": "https://localhost:8080/",
          "height": 1000
        },
        "id": "FfQ-xL2jbVuK",
        "outputId": "06b7ee7a-b8a9-46ac-9fad-7660745190a6"
      },
      "source": [
        "df2 = pd.DataFrame({'num': lotto_s, 'count': s_number})\n",
        "df2"
      ],
      "execution_count": 11,
      "outputs": [
        {
          "output_type": "execute_result",
          "data": {
            "text/html": [
              "<div>\n",
              "<style scoped>\n",
              "    .dataframe tbody tr th:only-of-type {\n",
              "        vertical-align: middle;\n",
              "    }\n",
              "\n",
              "    .dataframe tbody tr th {\n",
              "        vertical-align: top;\n",
              "    }\n",
              "\n",
              "    .dataframe thead th {\n",
              "        text-align: right;\n",
              "    }\n",
              "</style>\n",
              "<table border=\"1\" class=\"dataframe\">\n",
              "  <thead>\n",
              "    <tr style=\"text-align: right;\">\n",
              "      <th></th>\n",
              "      <th>num</th>\n",
              "      <th>count</th>\n",
              "    </tr>\n",
              "  </thead>\n",
              "  <tbody>\n",
              "    <tr>\n",
              "      <th>0</th>\n",
              "      <td>1</td>\n",
              "      <td>133</td>\n",
              "    </tr>\n",
              "    <tr>\n",
              "      <th>1</th>\n",
              "      <td>2</td>\n",
              "      <td>126</td>\n",
              "    </tr>\n",
              "    <tr>\n",
              "      <th>2</th>\n",
              "      <td>3</td>\n",
              "      <td>128</td>\n",
              "    </tr>\n",
              "    <tr>\n",
              "      <th>3</th>\n",
              "      <td>4</td>\n",
              "      <td>133</td>\n",
              "    </tr>\n",
              "    <tr>\n",
              "      <th>4</th>\n",
              "      <td>5</td>\n",
              "      <td>128</td>\n",
              "    </tr>\n",
              "    <tr>\n",
              "      <th>5</th>\n",
              "      <td>6</td>\n",
              "      <td>118</td>\n",
              "    </tr>\n",
              "    <tr>\n",
              "      <th>6</th>\n",
              "      <td>7</td>\n",
              "      <td>126</td>\n",
              "    </tr>\n",
              "    <tr>\n",
              "      <th>7</th>\n",
              "      <td>8</td>\n",
              "      <td>128</td>\n",
              "    </tr>\n",
              "    <tr>\n",
              "      <th>8</th>\n",
              "      <td>9</td>\n",
              "      <td>101</td>\n",
              "    </tr>\n",
              "    <tr>\n",
              "      <th>9</th>\n",
              "      <td>10</td>\n",
              "      <td>134</td>\n",
              "    </tr>\n",
              "    <tr>\n",
              "      <th>10</th>\n",
              "      <td>11</td>\n",
              "      <td>129</td>\n",
              "    </tr>\n",
              "    <tr>\n",
              "      <th>11</th>\n",
              "      <td>12</td>\n",
              "      <td>137</td>\n",
              "    </tr>\n",
              "    <tr>\n",
              "      <th>12</th>\n",
              "      <td>13</td>\n",
              "      <td>135</td>\n",
              "    </tr>\n",
              "    <tr>\n",
              "      <th>13</th>\n",
              "      <td>14</td>\n",
              "      <td>134</td>\n",
              "    </tr>\n",
              "    <tr>\n",
              "      <th>14</th>\n",
              "      <td>15</td>\n",
              "      <td>130</td>\n",
              "    </tr>\n",
              "    <tr>\n",
              "      <th>15</th>\n",
              "      <td>16</td>\n",
              "      <td>124</td>\n",
              "    </tr>\n",
              "    <tr>\n",
              "      <th>16</th>\n",
              "      <td>17</td>\n",
              "      <td>137</td>\n",
              "    </tr>\n",
              "    <tr>\n",
              "      <th>17</th>\n",
              "      <td>18</td>\n",
              "      <td>139</td>\n",
              "    </tr>\n",
              "    <tr>\n",
              "      <th>18</th>\n",
              "      <td>19</td>\n",
              "      <td>131</td>\n",
              "    </tr>\n",
              "    <tr>\n",
              "      <th>19</th>\n",
              "      <td>20</td>\n",
              "      <td>134</td>\n",
              "    </tr>\n",
              "    <tr>\n",
              "      <th>20</th>\n",
              "      <td>21</td>\n",
              "      <td>127</td>\n",
              "    </tr>\n",
              "    <tr>\n",
              "      <th>21</th>\n",
              "      <td>22</td>\n",
              "      <td>110</td>\n",
              "    </tr>\n",
              "    <tr>\n",
              "      <th>22</th>\n",
              "      <td>23</td>\n",
              "      <td>114</td>\n",
              "    </tr>\n",
              "    <tr>\n",
              "      <th>23</th>\n",
              "      <td>24</td>\n",
              "      <td>126</td>\n",
              "    </tr>\n",
              "    <tr>\n",
              "      <th>24</th>\n",
              "      <td>25</td>\n",
              "      <td>123</td>\n",
              "    </tr>\n",
              "    <tr>\n",
              "      <th>25</th>\n",
              "      <td>26</td>\n",
              "      <td>127</td>\n",
              "    </tr>\n",
              "    <tr>\n",
              "      <th>26</th>\n",
              "      <td>27</td>\n",
              "      <td>141</td>\n",
              "    </tr>\n",
              "    <tr>\n",
              "      <th>27</th>\n",
              "      <td>28</td>\n",
              "      <td>119</td>\n",
              "    </tr>\n",
              "    <tr>\n",
              "      <th>28</th>\n",
              "      <td>29</td>\n",
              "      <td>115</td>\n",
              "    </tr>\n",
              "    <tr>\n",
              "      <th>29</th>\n",
              "      <td>30</td>\n",
              "      <td>117</td>\n",
              "    </tr>\n",
              "    <tr>\n",
              "      <th>30</th>\n",
              "      <td>31</td>\n",
              "      <td>129</td>\n",
              "    </tr>\n",
              "    <tr>\n",
              "      <th>31</th>\n",
              "      <td>32</td>\n",
              "      <td>110</td>\n",
              "    </tr>\n",
              "    <tr>\n",
              "      <th>32</th>\n",
              "      <td>33</td>\n",
              "      <td>134</td>\n",
              "    </tr>\n",
              "    <tr>\n",
              "      <th>33</th>\n",
              "      <td>34</td>\n",
              "      <td>147</td>\n",
              "    </tr>\n",
              "    <tr>\n",
              "      <th>34</th>\n",
              "      <td>35</td>\n",
              "      <td>119</td>\n",
              "    </tr>\n",
              "    <tr>\n",
              "      <th>35</th>\n",
              "      <td>36</td>\n",
              "      <td>128</td>\n",
              "    </tr>\n",
              "    <tr>\n",
              "      <th>36</th>\n",
              "      <td>37</td>\n",
              "      <td>131</td>\n",
              "    </tr>\n",
              "    <tr>\n",
              "      <th>37</th>\n",
              "      <td>38</td>\n",
              "      <td>128</td>\n",
              "    </tr>\n",
              "    <tr>\n",
              "      <th>38</th>\n",
              "      <td>39</td>\n",
              "      <td>137</td>\n",
              "    </tr>\n",
              "    <tr>\n",
              "      <th>39</th>\n",
              "      <td>40</td>\n",
              "      <td>138</td>\n",
              "    </tr>\n",
              "    <tr>\n",
              "      <th>40</th>\n",
              "      <td>41</td>\n",
              "      <td>118</td>\n",
              "    </tr>\n",
              "    <tr>\n",
              "      <th>41</th>\n",
              "      <td>42</td>\n",
              "      <td>124</td>\n",
              "    </tr>\n",
              "    <tr>\n",
              "      <th>42</th>\n",
              "      <td>43</td>\n",
              "      <td>141</td>\n",
              "    </tr>\n",
              "    <tr>\n",
              "      <th>43</th>\n",
              "      <td>44</td>\n",
              "      <td>127</td>\n",
              "    </tr>\n",
              "    <tr>\n",
              "      <th>44</th>\n",
              "      <td>45</td>\n",
              "      <td>133</td>\n",
              "    </tr>\n",
              "  </tbody>\n",
              "</table>\n",
              "</div>"
            ],
            "text/plain": [
              "    num  count\n",
              "0     1    133\n",
              "1     2    126\n",
              "2     3    128\n",
              "3     4    133\n",
              "4     5    128\n",
              "5     6    118\n",
              "6     7    126\n",
              "7     8    128\n",
              "8     9    101\n",
              "9    10    134\n",
              "10   11    129\n",
              "11   12    137\n",
              "12   13    135\n",
              "13   14    134\n",
              "14   15    130\n",
              "15   16    124\n",
              "16   17    137\n",
              "17   18    139\n",
              "18   19    131\n",
              "19   20    134\n",
              "20   21    127\n",
              "21   22    110\n",
              "22   23    114\n",
              "23   24    126\n",
              "24   25    123\n",
              "25   26    127\n",
              "26   27    141\n",
              "27   28    119\n",
              "28   29    115\n",
              "29   30    117\n",
              "30   31    129\n",
              "31   32    110\n",
              "32   33    134\n",
              "33   34    147\n",
              "34   35    119\n",
              "35   36    128\n",
              "36   37    131\n",
              "37   38    128\n",
              "38   39    137\n",
              "39   40    138\n",
              "40   41    118\n",
              "41   42    124\n",
              "42   43    141\n",
              "43   44    127\n",
              "44   45    133"
            ]
          },
          "metadata": {
            "tags": []
          },
          "execution_count": 11
        }
      ]
    },
    {
      "cell_type": "code",
      "metadata": {
        "colab": {
          "base_uri": "https://localhost:8080/",
          "height": 340
        },
        "id": "jH2Ucsh1kMYs",
        "outputId": "fe8a9c14-f4ff-404e-ca3d-b02308e3fbf8"
      },
      "source": [
        "df2 = df2.groupby('num').mean().sort_values(['count'],ascending=False)\n",
        "df2.plot(kind='bar', figsize=(15,5))\n",
        "plt.axis([-1,45,100, 150])\n",
        "plt.savefig('statsmax.png')"
      ],
      "execution_count": 17,
      "outputs": [
        {
          "output_type": "display_data",
          "data": {
            "image/png": "[encoded data removed]",
            "text/plain": [
              "<Figure size 1080x360 with 1 Axes>"
            ]
          },
          "metadata": {
            "tags": [],
            "needs_background": "light"
          }
        }
      ]
    }
  ]
}